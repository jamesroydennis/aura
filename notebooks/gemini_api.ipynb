{
 "cells": [
  {
   "cell_type": "code",
   "execution_count": 1,
   "id": "7b2b186d",
   "metadata": {},
   "outputs": [
    {
     "name": "stderr",
     "output_type": "stream",
     "text": [
      "c:\\Users\\jarde\\anaconda3\\envs\\aura-business\\lib\\site-packages\\tqdm\\auto.py:21: TqdmWarning: IProgress not found. Please update jupyter and ipywidgets. See https://ipywidgets.readthedocs.io/en/stable/user_install.html\n",
      "  from .autonotebook import tqdm as notebook_tqdm\n"
     ]
    },
    {
     "name": "stdout",
     "output_type": "stream",
     "text": [
      "AIzaSyDumgY7TitXqAmiz_eCItqQ_NOZ5O\n",
      "Gemini API configured successfully!\n",
      "\n",
      "--- Sending your human-crafted prompt to Gemini ---\n",
      "'Explain the concept of 'vibe coding' in a simple, friendly, and encouraging way, like you're inspiring a fellow engineer. Keep it concise, but convey enthusiasm.'\n",
      "\n",
      "\n",
      "An error occurred during the API call: 400 API key not valid. Please pass a valid API key. [reason: \"API_KEY_INVALID\"\n",
      "domain: \"googleapis.com\"\n",
      "metadata {\n",
      "  key: \"service\"\n",
      "  value: \"generativelanguage.googleapis.com\"\n",
      "}\n",
      ", locale: \"en-US\"\n",
      "message: \"API key not valid. Please pass a valid API key.\"\n",
      "]\n",
      "Possible issues: Incorrect API Key, network problems, or API rate limits.\n",
      "Please verify your API Key and internet connection.\n"
     ]
    }
   ],
   "source": [
    "# First, ensure you have the google-generativeai library installed in your 'aura' Conda environment.\n",
    "# If you get an error like \"ModuleNotFoundError: No module named 'google.generativeai'\",\n",
    "# then uncomment the line below and run it in a new Jupyter cell:\n",
    "# !pip install google-generativeai\n",
    "\n",
    "import google.generativeai as genai\n",
    "import os\n",
    "\n",
    "# API_KEY = os.getenv(\"GOOGLE_API_KEY\")\n",
    "\n",
    "API_KEY = \"AIzaSyDumgY7TitXqAmiz_eCItqQ_NOZ5O\"\n",
    "\n",
    "print(API_KEY)\n",
    "\n",
    "# Configure the Gemini API with your API Key\n",
    "try:\n",
    "    genai.configure(api_key=API_KEY)\n",
    "    print(\"Gemini API configured successfully!\")\n",
    "except Exception as e:\n",
    "    print(f\"Error configuring Gemini API: {e}\")\n",
    "    print(\"Please double-check your API Key.\")\n",
    "\n",
    "# --- Define the Generative Model ---\n",
    "# We'll use the 'gemini-2.0-flash' model for its speed and cost-effectiveness,\n",
    "# making it ideal for our interactive experiments.\n",
    "model = genai.GenerativeModel('gemini-2.0-flash')\n",
    "\n",
    "# --- Your First Human-Led Prompt! ---\n",
    "# This is where you direct the AI's power.\n",
    "# Let's start by exploring the core concept of our project: \"vibe coding\".\n",
    "prompt = \"Explain the concept of 'vibe coding' in a simple, friendly, and encouraging way, like you're inspiring a fellow engineer. Keep it concise, but convey enthusiasm.\"\n",
    "\n",
    "print(f\"\\n--- Sending your human-crafted prompt to Gemini ---\\n'{prompt}'\\n\")\n",
    "\n",
    "try:\n",
    "    # --- Make the API Call to Gemini ---\n",
    "    # The generate_content method sends our prompt to the model and fetches the response.\n",
    "    response = model.generate_content(prompt)\n",
    "\n",
    "    # --- Display Gemini's Response ---\n",
    "    # The actual generated text content is typically accessed via response.text\n",
    "    if response.text:\n",
    "        print(\"\\n--- Aura's Co-Creation (Gemini's Response) ---\\n\")\n",
    "        print(response.text)\n",
    "    else:\n",
    "        print(\"\\nNo text content received in the response from Gemini.\")\n",
    "        if response.candidates and response.candidates[0].finish_reason:\n",
    "            print(f\"AI Model Finish Reason: {response.candidates[0].finish_reason}\")\n",
    "            print(\"This might indicate content moderation or safety filters.\")\n",
    "except Exception as e:\n",
    "    print(f\"\\nAn error occurred during the API call: {e}\")\n",
    "    print(\"Possible issues: Incorrect API Key, network problems, or API rate limits.\")\n",
    "    print(\"Please verify your API Key and internet connection.\")"
   ]
  }
 ],
 "metadata": {
  "kernelspec": {
   "display_name": "aura-business",
   "language": "python",
   "name": "python3"
  },
  "language_info": {
   "codemirror_mode": {
    "name": "ipython",
    "version": 3
   },
   "file_extension": ".py",
   "mimetype": "text/x-python",
   "name": "python",
   "nbconvert_exporter": "python",
   "pygments_lexer": "ipython3",
   "version": "3.9.23"
  }
 },
 "nbformat": 4,
 "nbformat_minor": 5
}
