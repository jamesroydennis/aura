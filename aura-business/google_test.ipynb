{
 "cells": [
  {
   "cell_type": "code",
   "execution_count": 1,
   "id": "4b902137",
   "metadata": {},
   "outputs": [
    {
     "name": "stdout",
     "output_type": "stream",
     "text": [
      "Attempting to connect to Google's main website...\n",
      "Successfully connected to www.google.com! Network seems fine.\n",
      "\n",
      "Attempting to connect directly to the Gemini API endpoint...\n",
      "Connectivity to Gemini API host FAILED: HTTPSConnectionPool(host='generativelanguage.googleapis.com', port=443): Read timed out. (read timeout=5)\n",
      "This is a more specific network/firewall issue affecting the Gemini API.\n"
     ]
    }
   ],
   "source": [
    "import requests\n",
    "\n",
    "print(\"Attempting to connect to Google's main website...\")\n",
    "try:\n",
    "    response = requests.get(\"https://www.google.com\", timeout=5) # 5-second timeout\n",
    "    response.raise_for_status() # Raises HTTPError for bad responses (4xx or 5xx)\n",
    "    print(\"Successfully connected to www.google.com! Network seems fine.\")\n",
    "except requests.exceptions.RequestException as e:\n",
    "    print(f\"Network connectivity FAILED: {e}\")\n",
    "    print(\"This indicates a general internet, firewall, or proxy issue from your Python environment.\")\n",
    "\n",
    "print(\"\\nAttempting to connect directly to the Gemini API endpoint...\")\n",
    "try:\n",
    "    # This is the base URL for the Gemini API. We're not making an LLM call,\n",
    "    # just checking if we can establish a connection to its host.\n",
    "    response = requests.get(\"https://generativelanguage.googleapis.com/v1beta/models\", timeout=5)\n",
    "    response.raise_for_status()\n",
    "    print(\"Successfully reached Gemini API host! Connectivity to API endpoint seems fine.\")\n",
    "except requests.exceptions.RequestException as e:\n",
    "    print(f\"Connectivity to Gemini API host FAILED: {e}\")\n",
    "    print(\"This is a more specific network/firewall issue affecting the Gemini API.\")"
   ]
  }
 ],
 "metadata": {
  "kernelspec": {
   "display_name": "aura-business",
   "language": "python",
   "name": "python3"
  },
  "language_info": {
   "codemirror_mode": {
    "name": "ipython",
    "version": 3
   },
   "file_extension": ".py",
   "mimetype": "text/x-python",
   "name": "python",
   "nbconvert_exporter": "python",
   "pygments_lexer": "ipython3",
   "version": "3.9.23"
  }
 },
 "nbformat": 4,
 "nbformat_minor": 5
}
